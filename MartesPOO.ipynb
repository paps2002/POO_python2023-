{
  "nbformat": 4,
  "nbformat_minor": 0,
  "metadata": {
    "colab": {
      "provenance": [],
      "authorship_tag": "ABX9TyMSGhmjWF3AShgMzg4t0HJS",
      "include_colab_link": true
    },
    "kernelspec": {
      "name": "python3",
      "display_name": "Python 3"
    },
    "language_info": {
      "name": "python"
    }
  },
  "cells": [
    {
      "cell_type": "markdown",
      "metadata": {
        "id": "view-in-github",
        "colab_type": "text"
      },
      "source": [
        "<a href=\"https://colab.research.google.com/github/paps2002/POO_python2023-/blob/main/MartesPOO.ipynb\" target=\"_parent\"><img src=\"https://colab.research.google.com/assets/colab-badge.svg\" alt=\"Open In Colab\"/></a>"
      ]
    },
    {
      "cell_type": "code",
      "execution_count": 1,
      "metadata": {
        "id": "Wjcui5sH8fxj"
      },
      "outputs": [],
      "source": [
        "alumno = {'numero_de_cuenta' : 318145839, 'carrera' : 'ICO', 'direccion' : {'calle' : 'rancho seco', 'numero' : 23}, 'Telefonos' : ['5583632670', '5514303539'] }"
      ]
    },
    {
      "cell_type": "code",
      "source": [
        "print(alumno['direccion']['calle'][3:6:1])\n",
        "print(alumno['Telefonos'])\n",
        "print(alumno)\n"
      ],
      "metadata": {
        "colab": {
          "base_uri": "https://localhost:8080/"
        },
        "id": "WtgRn0jx-IEm",
        "outputId": "d38e8eca-733e-4a46-8742-6f9973c0881e"
      },
      "execution_count": 3,
      "outputs": [
        {
          "output_type": "stream",
          "name": "stdout",
          "text": [
            "cho\n",
            "['5583632670', '5514303539']\n",
            "{'numero_de_cuenta': 318145839, 'carrera': 'ICO', 'direccion': {'calle': 'rancho seco', 'numero': 23}, 'Telefonos': ['5583632670', '5514303539']}\n"
          ]
        }
      ]
    },
    {
      "cell_type": "code",
      "source": [
        "#if\n",
        "edad = 20\n",
        "if edad >= 18:\n",
        "    print(\"Eres mayor de edad.\")"
      ],
      "metadata": {
        "colab": {
          "base_uri": "https://localhost:8080/"
        },
        "id": "VsKEpI_H-JoG",
        "outputId": "5468c6b4-3732-45b1-a6e3-af28792cb27c"
      },
      "execution_count": 4,
      "outputs": [
        {
          "output_type": "stream",
          "name": "stdout",
          "text": [
            "Eres mayor de edad.\n"
          ]
        }
      ]
    },
    {
      "cell_type": "code",
      "source": [
        "#if\n",
        "edad = 20\n",
        "if edad >= 18:\n",
        "    print(\"Eres mayor de edad.\")\n",
        "else:\n",
        "  print('eres menor de edad')\n",
        "  print('otra cosa algomas...')"
      ],
      "metadata": {
        "colab": {
          "base_uri": "https://localhost:8080/"
        },
        "id": "8pOddu59_Ig_",
        "outputId": "080a01c9-d2c1-4671-e7a5-b0192e24988d"
      },
      "execution_count": 6,
      "outputs": [
        {
          "output_type": "stream",
          "name": "stdout",
          "text": [
            "Eres mayor de edad.\n"
          ]
        }
      ]
    },
    {
      "cell_type": "code",
      "source": [
        "# if- elif - else\n",
        "edad = 20\n",
        "if edad < 13:\n",
        "    print(\"Eres un niño.\")\n",
        "elif edad < 18:\n",
        "    print(\"Eres un adolescente.\")\n",
        "else:\n",
        "    print(\"Eres un adulto.\")"
      ],
      "metadata": {
        "colab": {
          "base_uri": "https://localhost:8080/"
        },
        "id": "p9_HWEnA_1LY",
        "outputId": "5acb6dd7-f045-4dd4-f133-7488f7e73b42"
      },
      "execution_count": 7,
      "outputs": [
        {
          "output_type": "stream",
          "name": "stdout",
          "text": [
            "Eres un adulto.\n"
          ]
        }
      ]
    },
    {
      "cell_type": "code",
      "source": [
        "# if-elif-elif\n",
        "edad = 20\n",
        "if edad < 13:\n",
        "    print(\"Eres un niño.\")\n",
        "elif edad < 18:\n",
        "    print(\"Eres un adolescente.\")\n",
        "elif edad < 30:\n",
        "    print(\"Eres un joven adulto.\")"
      ],
      "metadata": {
        "colab": {
          "base_uri": "https://localhost:8080/"
        },
        "id": "KyHdey9bAX2I",
        "outputId": "9d975f41-4e4b-41b9-9f07-fcc7d8b98a15"
      },
      "execution_count": 8,
      "outputs": [
        {
          "output_type": "stream",
          "name": "stdout",
          "text": [
            "Eres un joven adulto.\n"
          ]
        }
      ]
    },
    {
      "cell_type": "code",
      "source": [
        "# For   for(int = 1 ; i<10 ; i++)\n",
        "\n",
        "for i in range(1, 10, 1):\n",
        "    print(i)"
      ],
      "metadata": {
        "colab": {
          "base_uri": "https://localhost:8080/"
        },
        "id": "A8hFyd2vBWyS",
        "outputId": "d012b52e-d52d-4428-c2a6-cf530ea850bd"
      },
      "execution_count": 9,
      "outputs": [
        {
          "output_type": "stream",
          "name": "stdout",
          "text": [
            "1\n",
            "2\n",
            "3\n",
            "4\n",
            "5\n",
            "6\n",
            "7\n",
            "8\n",
            "9\n"
          ]
        }
      ]
    },
    {
      "cell_type": "code",
      "source": [
        "frutas = ['piña', 'pera', 'manzana', 'fresa', 'aguacate']\n",
        "for numero in frutas:\n",
        "    print(numero)\n",
        "\n",
        "print('------------------')\n",
        "for numero in frutas:\n",
        "    if numero == \"manzana\":\n",
        "        break   # ó continue\n",
        "    print(numero)  # imprime la fruta\n",
        "print('FIN')"
      ],
      "metadata": {
        "colab": {
          "base_uri": "https://localhost:8080/"
        },
        "id": "SPf-str5CR9B",
        "outputId": "53e9a6a4-a721-4a77-ade2-295811f7e220"
      },
      "execution_count": 13,
      "outputs": [
        {
          "output_type": "stream",
          "name": "stdout",
          "text": [
            "piña\n",
            "pera\n",
            "manzana\n",
            "fresa\n",
            "aguacate\n",
            "------------------\n",
            "piña\n",
            "pera\n",
            "FIN\n"
          ]
        }
      ]
    }
  ]
}